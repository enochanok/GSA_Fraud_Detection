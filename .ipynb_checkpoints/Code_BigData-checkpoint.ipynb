{
 "cells": [
  {
   "cell_type": "code",
   "execution_count": 1,
   "id": "9b318c94-b910-4b6c-9ace-674286e9d1ba",
   "metadata": {},
   "outputs": [
    {
     "name": "stdout",
     "output_type": "stream",
     "text": [
      "['Transaction Report - OPEN DATA '] ['APR JUN 2018 3rd Qtr'] ['Sheet1', 'Sheet2', 'Sheet3']\n",
      "18\n",
      "20\n",
      "18\n"
     ]
    },
    {
     "data": {
      "text/plain": [
       "({'columns': ['Program',\n",
       "   'Region',\n",
       "   'Hierarchy Level 3 Name',\n",
       "   'Cardholder First Name',\n",
       "   'Cardholder Last Name',\n",
       "   'Merchant Name',\n",
       "   'Merchant Property Address',\n",
       "   'Merchant City',\n",
       "   'Merchant State',\n",
       "   'Merchant Zip',\n",
       "   'Merchant Phone',\n",
       "   'MCC',\n",
       "   'MCC Description',\n",
       "   'Transaction Date',\n",
       "   'Transaction Post Date',\n",
       "   'Transaction Amount',\n",
       "   'Transaction Type',\n",
       "   'Transaction DB-CR Indicator']},\n",
       " {'columns': ['Hierarchy Level 1 Name',\n",
       "   'Hierarchy Level 2 Name',\n",
       "   'Hierarchy Level 3',\n",
       "   'Hierarchy Level 3 Name',\n",
       "   'Account Name (Short)',\n",
       "   'Cardholder First Name',\n",
       "   'Cardholder Last Name',\n",
       "   'Merchant Name',\n",
       "   'Merchant Property Address',\n",
       "   'Merchant City',\n",
       "   'Merchant State',\n",
       "   'Merchant Zip',\n",
       "   'Merchant Phone',\n",
       "   'MCC',\n",
       "   'MCC Description',\n",
       "   'Transaction Date',\n",
       "   'Transaction Post Date',\n",
       "   'Transaction Amount',\n",
       "   'Transaction Type',\n",
       "   'Transaction DB-CR Indicator']},\n",
       " {'columns': ['Program',\n",
       "   'Region',\n",
       "   'Service/Staff Office',\n",
       "   'Cardholder First Name',\n",
       "   'Cardholder Last Name',\n",
       "   'Merchant Name',\n",
       "   'Merchant Property Address',\n",
       "   'Merchant City',\n",
       "   'Merchant State',\n",
       "   'Merchant Zip',\n",
       "   'Merchant Phone',\n",
       "   'MCC',\n",
       "   'MCC Description',\n",
       "   'Transaction Date',\n",
       "   'Transaction Post Date',\n",
       "   'Transaction Amount',\n",
       "   'Transaction Type',\n",
       "   'Transaction DB-CR Indicator']})"
      ]
     },
     "execution_count": 1,
     "metadata": {},
     "output_type": "execute_result"
    }
   ],
   "source": [
    "import pandas as pd\n",
    "\n",
    "file2 = \"DATASET/apr-jun-2018-3rd-qtr-gsa-pc-transactions.xlsx\"\n",
    "file1 = \"DATASET/jan-march-2018-gsa-pc-transactions.xlsx\"\n",
    "file3 = \"DATASET/jul-sep-2018-gsa-pc-transactions.xlsx\"\n",
    "\n",
    "# Load the first sheet from each Excel file\n",
    "xls1 = pd.ExcelFile(file1)\n",
    "xls2 = pd.ExcelFile(file2)\n",
    "xls3 = pd.ExcelFile(file3)\n",
    "# Checking sheet names\n",
    "sheets1 = xls1.sheet_names\n",
    "sheets2 = xls2.sheet_names\n",
    "sheets3 = xls3.sheet_names\n",
    "\n",
    "print(sheets1,sheets2, sheets3)\n",
    "\n",
    "# Load first sheet from each file\n",
    "df1 = xls1.parse(sheets1[0])\n",
    "df2 = xls2.parse(sheets2[0])\n",
    "df3 = xls3.parse(sheets3[0])\n",
    "\n",
    "# Display column names and first few rows from each dataset\n",
    "df1_info = {\"columns\": df1.columns.tolist()}\n",
    "df2_info = {\"columns\": df2.columns.tolist()}\n",
    "df3_info = {\"columns\": df3.columns.tolist()}\n",
    "\n",
    "print(len(df1_info[\"columns\"]))\n",
    "print(len(df2_info[\"columns\"]))\n",
    "print(len(df3_info[\"columns\"]))\n",
    "\n",
    "df1_info, df2_info, df3_info"
   ]
  },
  {
   "cell_type": "code",
   "execution_count": 2,
   "id": "66b39965-2086-44ab-85f4-ba8ab08a51b4",
   "metadata": {
    "scrolled": true
   },
   "outputs": [
    {
     "name": "stdout",
     "output_type": "stream",
     "text": [
      "['Program', 'Region', 'Hierarchy Level 3 Name', 'Cardholder First Name', 'Cardholder Last Name', 'Merchant Name', 'Merchant Property Address', 'Merchant City', 'Merchant State', 'Merchant Zip', 'Merchant Phone', 'MCC', 'MCC Description', 'Transaction Date', 'Transaction Post Date', 'Transaction Amount', 'Transaction Type', 'Transaction DB-CR Indicator']\n"
     ]
    },
    {
     "data": {
      "text/plain": [
       "18"
      ]
     },
     "execution_count": 2,
     "metadata": {},
     "output_type": "execute_result"
    }
   ],
   "source": [
    "df2_new = df2.rename(columns = {\n",
    "    'Hierarchy Level 1 Name': 'Program',\n",
    "    'Hierarchy Level 2 Name': 'Region',\n",
    "    'Hierarchy Level 3 Name': 'Hierarchy Level 3 Name',\n",
    "    'Cardholder First Name': 'Cardholder First Name',\n",
    "    'Cardholder Last Name': 'Cardholder Last Name',\n",
    "    'Merchant Name': 'Merchant Name',\n",
    "    'Merchant Property Address': 'Merchant Property Address',\n",
    "    'Merchant City': 'Merchant City',\n",
    "    'Merchant State': 'Merchant State',\n",
    "    'Merchant Zip': 'Merchant Zip',\n",
    "    'Merchant Phone': 'Merchant Phone',\n",
    "    'MCC': 'MCC',\n",
    "    'MCC Description': 'MCC Description',\n",
    "    'Transaction Date': 'Transaction Date',\n",
    "    'Transaction Post Date': 'Transaction Post Date',\n",
    "    'Transaction Amount': 'Transaction Amount',\n",
    "    'Transaction Type': 'Transaction Type',\n",
    "    'Transaction DB-CR Indicator': 'Transaction DB-CR Indicator'\n",
    "})\n",
    "\n",
    "df2_new = df2_new.drop(['Hierarchy Level 3','Account Name (Short)'], axis = 1)\n",
    "print(df2_new.columns.tolist())\n",
    "len(df2_new.columns)"
   ]
  },
  {
   "cell_type": "code",
   "execution_count": 3,
   "id": "5d50667c-48d6-46aa-9d15-47a1bb0e403b",
   "metadata": {},
   "outputs": [
    {
     "name": "stdout",
     "output_type": "stream",
     "text": [
      "['Program', 'Region', 'Hierarchy Level 3 Name', 'Cardholder First Name', 'Cardholder Last Name', 'Merchant Name', 'Merchant Property Address', 'Merchant City', 'Merchant State', 'Merchant Zip', 'Merchant Phone', 'MCC', 'MCC Description', 'Transaction Date', 'Transaction Post Date', 'Transaction Amount', 'Transaction Type', 'Transaction DB-CR Indicator']\n"
     ]
    },
    {
     "data": {
      "text/plain": [
       "18"
      ]
     },
     "execution_count": 3,
     "metadata": {},
     "output_type": "execute_result"
    }
   ],
   "source": [
    "df3_new = df3.rename(columns = {\n",
    "    'Service/Staff Office': 'Hierarchy Level 3 Name'\n",
    "})\n",
    "\n",
    "print(df3_new.columns.tolist())\n",
    "len(df3_new.columns)  "
   ]
  },
  {
   "cell_type": "code",
   "execution_count": 4,
   "id": "03026770-a133-4dbb-9c1f-773d517ffc60",
   "metadata": {},
   "outputs": [
    {
     "name": "stdout",
     "output_type": "stream",
     "text": [
      "<class 'pandas.core.frame.DataFrame'>\n",
      "RangeIndex: 8096 entries, 0 to 8095\n",
      "Data columns (total 18 columns):\n",
      " #   Column                       Non-Null Count  Dtype         \n",
      "---  ------                       --------------  -----         \n",
      " 0   program                      8096 non-null   object        \n",
      " 1   region                       8096 non-null   object        \n",
      " 2   hierarchy level 3 name       8096 non-null   object        \n",
      " 3   cardholder first name        8091 non-null   object        \n",
      " 4   cardholder last name         8096 non-null   object        \n",
      " 5   merchant name                8096 non-null   object        \n",
      " 6   merchant property address    7955 non-null   object        \n",
      " 7   merchant city                8096 non-null   object        \n",
      " 8   merchant state               8068 non-null   object        \n",
      " 9   merchant zip                 8096 non-null   int64         \n",
      " 10  merchant phone               5936 non-null   object        \n",
      " 11  mcc                          8096 non-null   int64         \n",
      " 12  mcc description              8096 non-null   object        \n",
      " 13  transaction date             8096 non-null   datetime64[ns]\n",
      " 14  transaction post date        8096 non-null   datetime64[ns]\n",
      " 15  transaction amount           8096 non-null   float64       \n",
      " 16  transaction type             8096 non-null   object        \n",
      " 17  transaction db-cr indicator  8096 non-null   object        \n",
      "dtypes: datetime64[ns](2), float64(1), int64(2), object(13)\n",
      "memory usage: 1.1+ MB\n",
      "program                           0\n",
      "region                            0\n",
      "hierarchy level 3 name            0\n",
      "cardholder first name             5\n",
      "cardholder last name              0\n",
      "merchant name                     0\n",
      "merchant property address       141\n",
      "merchant city                     0\n",
      "merchant state                   28\n",
      "merchant zip                      0\n",
      "merchant phone                 2160\n",
      "mcc                               0\n",
      "mcc description                   0\n",
      "transaction date                  0\n",
      "transaction post date             0\n",
      "transaction amount                0\n",
      "transaction type                  0\n",
      "transaction db-cr indicator       0\n",
      "dtype: int64\n",
      "program                          0\n",
      "region                           0\n",
      "hierarchy level 3 name           0\n",
      "cardholder first name            2\n",
      "cardholder last name             0\n",
      "merchant name                    0\n",
      "merchant property address      135\n",
      "merchant city                    0\n",
      "merchant state                  35\n",
      "merchant zip                     0\n",
      "merchant phone                 874\n",
      "mcc                              0\n",
      "mcc description                  0\n",
      "transaction date                 0\n",
      "transaction post date            0\n",
      "transaction amount               0\n",
      "transaction type                 0\n",
      "transaction db-cr indicator      0\n",
      "dtype: int64\n",
      "program                           1\n",
      "region                            1\n",
      "hierarchy level 3 name            1\n",
      "cardholder first name             2\n",
      "cardholder last name              1\n",
      "merchant name                     1\n",
      "merchant property address       147\n",
      "merchant city                     1\n",
      "merchant state                   21\n",
      "merchant zip                      1\n",
      "merchant phone                 1076\n",
      "mcc                               1\n",
      "mcc description                   1\n",
      "transaction date                  1\n",
      "transaction post date             1\n",
      "transaction amount                0\n",
      "transaction type                  1\n",
      "transaction db-cr indicator       1\n",
      "dtype: int64\n"
     ]
    }
   ],
   "source": [
    "def standarized_col_names(df):\n",
    "    df.columns = df.columns.str.strip().str.lower()\n",
    "    return df\n",
    "    \n",
    "df1_standard = standarized_col_names(df1)\n",
    "df2_standard = standarized_col_names(df2_new)\n",
    "df3_standard = standarized_col_names(df3_new)\n",
    "\n",
    "df1_standard.info()\n",
    "print(df1_standard.isnull().sum())\n",
    "print(df2_standard.isnull().sum())\n",
    "print(df3_standard.isnull().sum())"
   ]
  },
  {
   "cell_type": "code",
   "execution_count": 5,
   "id": "3d85552c-b096-4882-9706-f3fcdbd8b201",
   "metadata": {},
   "outputs": [
    {
     "name": "stdout",
     "output_type": "stream",
     "text": [
      "First dataframe:\n",
      "\n",
      "program                         0\n",
      "region                          0\n",
      "hierarchy level 3 name          0\n",
      "cardholder first name           5\n",
      "cardholder last name            0\n",
      "merchant name                   0\n",
      "merchant city                   0\n",
      "merchant state                 28\n",
      "merchant zip                    0\n",
      "mcc                             0\n",
      "mcc description                 0\n",
      "transaction date                0\n",
      "transaction post date           0\n",
      "transaction amount              0\n",
      "transaction type                0\n",
      "transaction db-cr indicator     0\n",
      "dtype: int64\n",
      "\n",
      "Second dataframe:\n",
      "\n",
      "program                         0\n",
      "region                          0\n",
      "hierarchy level 3 name          0\n",
      "cardholder first name           2\n",
      "cardholder last name            0\n",
      "merchant name                   0\n",
      "merchant city                   0\n",
      "merchant state                 35\n",
      "merchant zip                    0\n",
      "mcc                             0\n",
      "mcc description                 0\n",
      "transaction date                0\n",
      "transaction post date           0\n",
      "transaction amount              0\n",
      "transaction type                0\n",
      "transaction db-cr indicator     0\n",
      "dtype: int64\n",
      "\n",
      "Thirddataframe:\n",
      "\n",
      "program                         1\n",
      "region                          1\n",
      "hierarchy level 3 name          1\n",
      "cardholder first name           2\n",
      "cardholder last name            1\n",
      "merchant name                   1\n",
      "merchant city                   1\n",
      "merchant state                 21\n",
      "merchant zip                    1\n",
      "mcc                             1\n",
      "mcc description                 1\n",
      "transaction date                1\n",
      "transaction post date           1\n",
      "transaction amount              0\n",
      "transaction type                1\n",
      "transaction db-cr indicator     1\n",
      "dtype: int64\n"
     ]
    }
   ],
   "source": [
    "df1_standard.drop(['merchant phone', 'merchant property address'],axis = 1, inplace = True)\n",
    "df2_standard.drop(['merchant phone', 'merchant property address'],axis = 1, inplace = True)\n",
    "df3_standard.drop(['merchant phone', 'merchant property address'],axis = 1, inplace = True)\n",
    "print(\"First dataframe:\\n\")\n",
    "print(df1_standard.isnull().sum())\n",
    "print(\"\\nSecond dataframe:\\n\")\n",
    "print(df2_standard.isnull().sum())\n",
    "print(\"\\nThirddataframe:\\n\")\n",
    "print(df3_standard.isnull().sum())"
   ]
  },
  {
   "cell_type": "code",
   "execution_count": 6,
   "id": "d869091e-8b7e-4f5f-966e-509901c59456",
   "metadata": {},
   "outputs": [
    {
     "name": "stdout",
     "output_type": "stream",
     "text": [
      "(8096, 16)\n",
      "(8707, 16)\n",
      "(10526, 16)\n"
     ]
    }
   ],
   "source": [
    "print(df1_standard.shape)\n",
    "print(df2_standard.shape)\n",
    "print(df3_standard.shape)"
   ]
  },
  {
   "cell_type": "code",
   "execution_count": 16,
   "id": "1d8e53d5-d753-4f67-80d8-4247fbe60716",
   "metadata": {
    "scrolled": true
   },
   "outputs": [
    {
     "name": "stdout",
     "output_type": "stream",
     "text": [
      "program                        0\n",
      "region                         0\n",
      "hierarchy level 3 name         0\n",
      "cardholder first name          0\n",
      "cardholder last name           0\n",
      "merchant name                  0\n",
      "merchant city                  0\n",
      "merchant state                 0\n",
      "merchant zip                   0\n",
      "mcc                            0\n",
      "mcc description                0\n",
      "transaction date               0\n",
      "transaction post date          0\n",
      "transaction amount             0\n",
      "transaction type               0\n",
      "transaction db-cr indicator    0\n",
      "dtype: int64\n"
     ]
    },
    {
     "data": {
      "text/plain": [
       "(8063, 16)"
      ]
     },
     "execution_count": 16,
     "metadata": {},
     "output_type": "execute_result"
    }
   ],
   "source": [
    "df1_cleaned = df1_standard.dropna()\n",
    "print(df1_cleaned.isnull().sum())\n",
    "df1_cleaned.shape"
   ]
  },
  {
   "cell_type": "code",
   "execution_count": 18,
   "id": "26bcd672-8844-4db4-8326-e18cbbd4bcb7",
   "metadata": {},
   "outputs": [
    {
     "name": "stdout",
     "output_type": "stream",
     "text": [
      "program                        0\n",
      "region                         0\n",
      "hierarchy level 3 name         0\n",
      "cardholder first name          0\n",
      "cardholder last name           0\n",
      "merchant name                  0\n",
      "merchant city                  0\n",
      "merchant state                 0\n",
      "merchant zip                   0\n",
      "mcc                            0\n",
      "mcc description                0\n",
      "transaction date               0\n",
      "transaction post date          0\n",
      "transaction amount             0\n",
      "transaction type               0\n",
      "transaction db-cr indicator    0\n",
      "dtype: int64\n"
     ]
    },
    {
     "data": {
      "text/plain": [
       "(8670, 16)"
      ]
     },
     "execution_count": 18,
     "metadata": {},
     "output_type": "execute_result"
    }
   ],
   "source": [
    "df2_cleaned = df2_standard.dropna()\n",
    "print(df2_cleaned.isnull().sum())\n",
    "df2_cleaned.shape"
   ]
  },
  {
   "cell_type": "code",
   "execution_count": 20,
   "id": "341d2b10-a508-4ad6-a0c2-bf14940fc02d",
   "metadata": {},
   "outputs": [
    {
     "name": "stdout",
     "output_type": "stream",
     "text": [
      "program                        0\n",
      "region                         0\n",
      "hierarchy level 3 name         0\n",
      "cardholder first name          0\n",
      "cardholder last name           0\n",
      "merchant name                  0\n",
      "merchant city                  0\n",
      "merchant state                 0\n",
      "merchant zip                   0\n",
      "mcc                            0\n",
      "mcc description                0\n",
      "transaction date               0\n",
      "transaction post date          0\n",
      "transaction amount             0\n",
      "transaction type               0\n",
      "transaction db-cr indicator    0\n",
      "dtype: int64\n"
     ]
    },
    {
     "data": {
      "text/plain": [
       "(10504, 16)"
      ]
     },
     "execution_count": 20,
     "metadata": {},
     "output_type": "execute_result"
    }
   ],
   "source": [
    "df3_cleaned = df3_standard.dropna()\n",
    "print(df3_cleaned.isnull().sum())\n",
    "df3_cleaned.shape"
   ]
  },
  {
   "cell_type": "code",
   "execution_count": 24,
   "id": "98431356-878f-492d-a2fa-490b4887d35c",
   "metadata": {},
   "outputs": [
    {
     "name": "stdout",
     "output_type": "stream",
     "text": [
      "<class 'pandas.core.frame.DataFrame'>\n",
      "Index: 8063 entries, 0 to 8095\n",
      "Data columns (total 16 columns):\n",
      " #   Column                       Non-Null Count  Dtype         \n",
      "---  ------                       --------------  -----         \n",
      " 0   program                      8063 non-null   object        \n",
      " 1   region                       8063 non-null   object        \n",
      " 2   hierarchy level 3 name       8063 non-null   object        \n",
      " 3   cardholder first name        8063 non-null   object        \n",
      " 4   cardholder last name         8063 non-null   object        \n",
      " 5   merchant name                8063 non-null   object        \n",
      " 6   merchant city                8063 non-null   object        \n",
      " 7   merchant state               8063 non-null   object        \n",
      " 8   merchant zip                 8063 non-null   int64         \n",
      " 9   mcc                          8063 non-null   int64         \n",
      " 10  mcc description              8063 non-null   object        \n",
      " 11  transaction date             8063 non-null   datetime64[ns]\n",
      " 12  transaction post date        8063 non-null   datetime64[ns]\n",
      " 13  transaction amount           8063 non-null   float64       \n",
      " 14  transaction type             8063 non-null   object        \n",
      " 15  transaction db-cr indicator  8063 non-null   object        \n",
      "dtypes: datetime64[ns](2), float64(1), int64(2), object(11)\n",
      "memory usage: 1.0+ MB\n"
     ]
    }
   ],
   "source": [
    "df1_cleaned.info()\n"
   ]
  },
  {
   "cell_type": "code",
   "execution_count": 28,
   "id": "f36fce67-9f8c-4111-98e4-a364d1d20485",
   "metadata": {},
   "outputs": [
    {
     "name": "stdout",
     "output_type": "stream",
     "text": [
      "<class 'pandas.core.frame.DataFrame'>\n",
      "Index: 8670 entries, 0 to 8706\n",
      "Data columns (total 16 columns):\n",
      " #   Column                       Non-Null Count  Dtype         \n",
      "---  ------                       --------------  -----         \n",
      " 0   program                      8670 non-null   object        \n",
      " 1   region                       8670 non-null   object        \n",
      " 2   hierarchy level 3 name       8670 non-null   object        \n",
      " 3   cardholder first name        8670 non-null   object        \n",
      " 4   cardholder last name         8670 non-null   object        \n",
      " 5   merchant name                8670 non-null   object        \n",
      " 6   merchant city                8670 non-null   object        \n",
      " 7   merchant state               8670 non-null   object        \n",
      " 8   merchant zip                 8670 non-null   int64         \n",
      " 9   mcc                          8670 non-null   int64         \n",
      " 10  mcc description              8670 non-null   object        \n",
      " 11  transaction date             8670 non-null   datetime64[ns]\n",
      " 12  transaction post date        8670 non-null   datetime64[ns]\n",
      " 13  transaction amount           8670 non-null   float64       \n",
      " 14  transaction type             8670 non-null   object        \n",
      " 15  transaction db-cr indicator  8670 non-null   object        \n",
      "dtypes: datetime64[ns](2), float64(1), int64(2), object(11)\n",
      "memory usage: 1.1+ MB\n"
     ]
    }
   ],
   "source": [
    "df2_cleaned.info()"
   ]
  },
  {
   "cell_type": "code",
   "execution_count": 32,
   "id": "5899792e-910d-4c3e-93cf-929fc6681403",
   "metadata": {},
   "outputs": [
    {
     "name": "stdout",
     "output_type": "stream",
     "text": [
      "<class 'pandas.core.frame.DataFrame'>\n",
      "Index: 10504 entries, 0 to 10524\n",
      "Data columns (total 16 columns):\n",
      " #   Column                       Non-Null Count  Dtype         \n",
      "---  ------                       --------------  -----         \n",
      " 0   program                      10504 non-null  object        \n",
      " 1   region                       10504 non-null  object        \n",
      " 2   hierarchy level 3 name       10504 non-null  object        \n",
      " 3   cardholder first name        10504 non-null  object        \n",
      " 4   cardholder last name         10504 non-null  object        \n",
      " 5   merchant name                10504 non-null  object        \n",
      " 6   merchant city                10504 non-null  object        \n",
      " 7   merchant state               10504 non-null  object        \n",
      " 8   merchant zip                 10504 non-null  float64       \n",
      " 9   mcc                          10504 non-null  float64       \n",
      " 10  mcc description              10504 non-null  object        \n",
      " 11  transaction date             10504 non-null  datetime64[ns]\n",
      " 12  transaction post date        10504 non-null  datetime64[ns]\n",
      " 13  transaction amount           10504 non-null  float64       \n",
      " 14  transaction type             10504 non-null  object        \n",
      " 15  transaction db-cr indicator  10504 non-null  object        \n",
      "dtypes: datetime64[ns](2), float64(3), object(11)\n",
      "memory usage: 1.4+ MB\n"
     ]
    }
   ],
   "source": [
    "df3_cleaned.info()"
   ]
  },
  {
   "cell_type": "code",
   "execution_count": 36,
   "id": "5f916b37-adee-4a8e-bbfe-e72b875d6477",
   "metadata": {},
   "outputs": [],
   "source": [
    "df1_cleaned.to_excel('DATASET/cleased_jan.xlsx')\n",
    "df2_cleaned.to_excel('DATASET/cleaned_april.xlsx')\n",
    "df3_cleaned.to_excel('DATASET/cleaned_jul.xlsx')"
   ]
  }
 ],
 "metadata": {
  "kernelspec": {
   "display_name": "Python 3 (ipykernel)",
   "language": "python",
   "name": "python3"
  },
  "language_info": {
   "codemirror_mode": {
    "name": "ipython",
    "version": 3
   },
   "file_extension": ".py",
   "mimetype": "text/x-python",
   "name": "python",
   "nbconvert_exporter": "python",
   "pygments_lexer": "ipython3",
   "version": "3.12.7"
  }
 },
 "nbformat": 4,
 "nbformat_minor": 5
}
